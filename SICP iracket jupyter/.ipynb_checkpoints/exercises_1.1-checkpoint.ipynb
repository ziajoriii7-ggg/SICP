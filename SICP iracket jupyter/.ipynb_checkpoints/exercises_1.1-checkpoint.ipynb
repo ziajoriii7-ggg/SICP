{
 "cells": [
  {
   "cell_type": "markdown",
   "id": "15351798-f8e6-4920-9aa3-fceea29e2a4c",
   "metadata": {
    "editable": true,
    "slideshow": {
     "slide_type": ""
    },
    "tags": []
   },
   "source": [
    "## EXERCISES - CHAPTER 1"
   ]
  },
  {
   "cell_type": "markdown",
   "id": "2ce867f7-4541-430d-9fbd-601d5ba93b0d",
   "metadata": {
    "editable": true,
    "slideshow": {
     "slide_type": ""
    },
    "tags": []
   },
   "source": [
    "### EXERCISE 1.1. \n",
    "\n",
    "Below is a sequence of expressions. What is the result printed by the interpreter in response to each expression?"
   ]
  },
  {
   "cell_type": "code",
   "execution_count": 1,
   "id": "87d67fd8-b06d-4294-92c6-70d90a7dff43",
   "metadata": {
    "editable": true,
    "slideshow": {
     "slide_type": ""
    },
    "tags": []
   },
   "outputs": [],
   "source": [
    "#lang iracket/lang #:require sicp"
   ]
  },
  {
   "cell_type": "code",
   "execution_count": 2,
   "id": "d0fc99db-1870-4761-a8b2-95de985a6d4c",
   "metadata": {
    "editable": true,
    "slideshow": {
     "slide_type": ""
    },
    "tags": []
   },
   "outputs": [
    {
     "data": {
      "text/html": [
       "<code>10</code>"
      ],
      "text/plain": [
       "10"
      ]
     },
     "execution_count": 2,
     "metadata": {},
     "output_type": "execute_result"
    }
   ],
   "source": [
    "10"
   ]
  },
  {
   "cell_type": "code",
   "execution_count": 3,
   "id": "faa7cdb3-0f6f-4ef1-a4a6-d1a5536eb4ad",
   "metadata": {},
   "outputs": [
    {
     "data": {
      "text/html": [
       "<code>12</code>"
      ],
      "text/plain": [
       "12"
      ]
     },
     "execution_count": 3,
     "metadata": {},
     "output_type": "execute_result"
    }
   ],
   "source": [
    "(+ 5 3 4)"
   ]
  },
  {
   "cell_type": "code",
   "execution_count": 4,
   "id": "3047a829-f282-4eb0-8da2-2b73d34f8798",
   "metadata": {},
   "outputs": [
    {
     "data": {
      "text/html": [
       "<code>8</code>"
      ],
      "text/plain": [
       "8"
      ]
     },
     "execution_count": 4,
     "metadata": {},
     "output_type": "execute_result"
    }
   ],
   "source": [
    "(- 9 1)"
   ]
  },
  {
   "cell_type": "code",
   "execution_count": 5,
   "id": "77bd8189-d6f5-42b5-829b-332c7d122abd",
   "metadata": {},
   "outputs": [
    {
     "data": {
      "text/html": [
       "<code>3</code>"
      ],
      "text/plain": [
       "3"
      ]
     },
     "execution_count": 5,
     "metadata": {},
     "output_type": "execute_result"
    }
   ],
   "source": [
    "(/ 6 2)"
   ]
  },
  {
   "cell_type": "code",
   "execution_count": 6,
   "id": "8f3fb52d-8c5d-4539-841c-f904c816a0ee",
   "metadata": {},
   "outputs": [
    {
     "data": {
      "text/html": [
       "<code>6</code>"
      ],
      "text/plain": [
       "6"
      ]
     },
     "execution_count": 6,
     "metadata": {},
     "output_type": "execute_result"
    }
   ],
   "source": [
    "(+ (* 2 4) (- 4 6))"
   ]
  },
  {
   "cell_type": "code",
   "execution_count": 7,
   "id": "3a0c71f0-65a8-402b-a537-308f289b5f15",
   "metadata": {},
   "outputs": [
    {
     "data": {
      "text/html": [
       "<code>19</code>"
      ],
      "text/plain": [
       "19"
      ]
     },
     "execution_count": 7,
     "metadata": {},
     "output_type": "execute_result"
    }
   ],
   "source": [
    "(define a 3)\n",
    "(define b (+ a 1))\n",
    "(+ a b (* a b))"
   ]
  },
  {
   "cell_type": "code",
   "execution_count": 8,
   "id": "c05ae08a-7568-4fa3-8216-3dde170e0d17",
   "metadata": {},
   "outputs": [
    {
     "data": {
      "text/html": [
       "<code>#f</code>"
      ],
      "text/plain": [
       "#f"
      ]
     },
     "execution_count": 8,
     "metadata": {},
     "output_type": "execute_result"
    }
   ],
   "source": [
    "(= a b)"
   ]
  },
  {
   "cell_type": "code",
   "execution_count": 9,
   "id": "0922672f-9ccb-42d9-a594-3d5dfc039db8",
   "metadata": {},
   "outputs": [
    {
     "data": {
      "text/html": [
       "<code>4</code>"
      ],
      "text/plain": [
       "4"
      ]
     },
     "execution_count": 9,
     "metadata": {},
     "output_type": "execute_result"
    }
   ],
   "source": [
    "(if (and (> b a) (< b (* a b)))\n",
    "    b\n",
    "    a)"
   ]
  },
  {
   "cell_type": "code",
   "execution_count": 10,
   "id": "07133153-f2a0-4689-b949-b41fd65c49fc",
   "metadata": {},
   "outputs": [
    {
     "data": {
      "text/html": [
       "<code>12</code>"
      ],
      "text/plain": [
       "12"
      ]
     },
     "execution_count": 10,
     "metadata": {},
     "output_type": "execute_result"
    }
   ],
   "source": [
    "(* (cond ((> b a) a)\n",
    "         ((< a b) b)\n",
    "         (else -1))\n",
    "   (+ a 1))"
   ]
  },
  {
   "cell_type": "markdown",
   "id": "b675d7fd-e311-44ee-969e-242becf904ee",
   "metadata": {
    "editable": true,
    "jp-MarkdownHeadingCollapsed": true,
    "slideshow": {
     "slide_type": ""
    },
    "tags": []
   },
   "source": [
    "### EXERCISE 1.2. \n",
    "Translate a expression [given in the book] into prefix form"
   ]
  },
  {
   "cell_type": "code",
   "execution_count": 11,
   "id": "63b744d3-a30e-4a65-8551-473046dd736f",
   "metadata": {},
   "outputs": [
    {
     "data": {
      "text/html": [
       "<code>-37/150</code>"
      ],
      "text/plain": [
       "-37/150"
      ]
     },
     "execution_count": 11,
     "metadata": {},
     "output_type": "execute_result"
    }
   ],
   "source": [
    "(/ (+ 5 4 (- 2 (- 3 (+ 6 (/ 4 5)))))\n",
    "   (* 3 (- 6 2) (- 2 7)))"
   ]
  },
  {
   "cell_type": "markdown",
   "id": "3b352f0c-1d22-4977-b975-fb1a48d41f6e",
   "metadata": {
    "editable": true,
    "slideshow": {
     "slide_type": ""
    },
    "tags": []
   },
   "source": [
    "### EXERCISE 1.3. \n",
    "Define a procedure that takes three numbers  as arguments and return the sum of the squares of the tw ; larger numberers."
   ]
  },
  {
   "cell_type": "code",
   "execution_count": 12,
   "id": "c7057a53-28eb-4517-bf26-8742195ece1e",
   "metadata": {
    "editable": true,
    "slideshow": {
     "slide_type": ""
    },
    "tags": []
   },
   "outputs": [],
   "source": [
    "(define (square x)\n",
    "  (* x x))\n",
    "\n",
    "(define (sum_of_square_of_two_largest_numbers a b c)\n",
    "  (cond ((and (<= a b) (<= a c))\n",
    "         (+ (square b) (square c))) ; a is excluded ->  sum of squares of b and c \n",
    "        \n",
    "        ((and (<= b a) (<= b c))\n",
    "         (+ (square a) (square c))) ; b is excluded ->  sum of squares of a and c  \n",
    "  \n",
    "        ((and (<= c a) (<= c b))\n",
    "         (+ (square a) (square b))) ; c is excluded ->  sum of squares of a and b \n",
    "  ))"
   ]
  },
  {
   "cell_type": "markdown",
   "id": "dd787870-275b-41eb-8ab8-fcbfe3aac544",
   "metadata": {
    "editable": true,
    "slideshow": {
     "slide_type": ""
    },
    "tags": []
   },
   "source": [
    "Testing out the procedure above"
   ]
  },
  {
   "cell_type": "code",
   "execution_count": 13,
   "id": "aaad5551-32db-4f89-a007-71f342d74c28",
   "metadata": {},
   "outputs": [
    {
     "name": "stdout",
     "output_type": "stream",
     "text": [
      "13"
     ]
    }
   ],
   "source": [
    "(display (sum_of_square_of_two_largest_numbers 1 2 3)); 2^2 + 3^2"
   ]
  },
  {
   "cell_type": "markdown",
   "id": "7ca6d8f1-d422-4d4d-b110-91ccbf503b09",
   "metadata": {
    "jp-MarkdownHeadingCollapsed": true
   },
   "source": [
    "### EXERCISE 1.4. \n",
    "Observe that our model of evaluation allows for  combinations whose operators are compound expressions. Use this observation to **describe the behavior of the following procedure**"
   ]
  },
  {
   "cell_type": "code",
   "execution_count": 14,
   "id": "36046d7b-0a0f-4969-bb4d-e352b4393dac",
   "metadata": {},
   "outputs": [],
   "source": [
    "(define (a-plus-abs-b a b)\n",
    "  (if (> b 0) + -) a b)"
   ]
  },
  {
   "cell_type": "markdown",
   "id": "6676699a-fa4f-481b-ac00-6aac92ac3ef1",
   "metadata": {},
   "source": [
    "**DESCRIPTION** of above procedure:\n",
    "- This procedure is defined by two paremeters a and b.\n",
    "- if b is greater than 0 then its value remains positive if b is less than 0 then its value it adds it a  since the input value was already a negative two minuses converts b into a positive. **This means that this procedure sums a and the absolute value of b.**"
   ]
  },
  {
   "cell_type": "markdown",
   "id": "fcfd8dda-d990-4529-8987-da2554411e9b",
   "metadata": {
    "jp-MarkdownHeadingCollapsed": true
   },
   "source": [
    "### EXERCISE 1.5. \n",
    "Ben Bitdiddle has invented a test to **determine whether the interpreter** he is faced with **is using applicative-order evaluation OR normal-order** evaluation. He defines the following two procedures:\n",
    "```\n",
    "(define (p) (p))\n",
    "\n",
    "(define (test x y)\n",
    "  (if (= x 0) 0 y))  (test 0 (p))\r\n",
    "```\n"
   ]
  },
  {
   "cell_type": "markdown",
   "id": "a4e14deb-ac9e-4b95-9432-bd95964e6362",
   "metadata": {
    "jp-MarkdownHeadingCollapsed": true
   },
   "source": [
    "#### 1. What behavior will Ben observe with an interpreter that uses **applicative-order evaluation?** **Explain your answer.**"
   ]
  },
  {
   "cell_type": "markdown",
   "id": "ed780cb1-8a59-4d76-8022-4fc1dd87614f",
   "metadata": {
    "jp-MarkdownHeadingCollapsed": true
   },
   "source": [
    "[1] APPLICATIVE ORDER:\n",
    "\n",
    "The loop gets run as an infinite loop recursively(*1), it doesn't get a numerical value at the end since it evaluates itself as `p`, without any exit condition.\n",
    "\n",
    "Since it first calls the arguments aka: call-by-value / llamada por valor it's using an applicative order [evaluation]:\n",
    "1. It evaluates 0 on `test`, it's a simple eval so it doesn't go further.\n",
    "2. It calls the value `(p)` p calls itself on define, it goes on an infinite loop*1.\n",
    "\n",
    "###### Additional notes _(theory)_:\n",
    "\n",
    "- __(*1)__: When the program will not terminate (this case because there's not exit, `p` goes on itself forever), the program will encounter a runtime error. This is called a **\"Stack Overflow / Desbordamiento de pila\"** porque supera su tamaño asignado debido a las llamada excesivas de _(a)_ funciones _(b)_ sus variables locales.\n",
    "\n",
    "- *Stack Overflow* usualmente ocurre cuando:\n",
    "   1. Hay una recursión infinita, defining itself.\n",
    "   2. O cuando hay llamadas con funciones sin condiciones de escape / terminación adecuadas.\n",
    "ior is known as \"Lazy Evaluation\"."
   ]
  },
  {
   "cell_type": "markdown",
   "id": "4d797dcb-36f8-4f8c-988d-4fb0aca3dde9",
   "metadata": {
    "jp-MarkdownHeadingCollapsed": true
   },
   "source": [
    "#### 2. What behavior will he [2] observe with an interpreter that use normal-order evaluation?** **Explain your answer.**"
   ]
  },
  {
   "cell_type": "markdown",
   "id": "3d910a2e-8f62-4b23-8e9f-1b1a9bd8ccd8",
   "metadata": {
    "jp-MarkdownHeadingCollapsed": true
   },
   "source": [
    "[2] NORMAL ORDER:\n",
    "An interpreter with Normal Order behavior would not call the evaluation until the values are needed(*2). So when _line 5_ `test` is called it will check if x is 0 so it will just give 0 as in _line 3_.\n",
    "\n",
    " CODE GIVEN [for reability purposes is on here]:\n",
    "```\n",
    " 1 |  (define (p) (p))\n",
    " 2 |  (define (test x y)\n",
    " 3 |    (if (= x 0) 0 y))\n",
    " 4 |\n",
    " 5 |  (test 0 (p))\n",
    "```\n",
    "\n",
    "DISPLAY TEST:\n",
    "```\n",
    "(test 0 (p))\n",
    "```\n",
    "##### Additional Notes _(// theory)_:\n",
    "- __(*2)__: This behavior is known as **\"Lazy Evaluation\"**."
   ]
  },
  {
   "cell_type": "markdown",
   "id": "82c24ac8-131f-4438-9b9b-7c3d6cba38a9",
   "metadata": {},
   "source": [
    "### EXERCISE 1.6. "
   ]
  },
  {
   "cell_type": "markdown",
   "id": "1b15f06c-e168-45aa-a84e-3bee320bb420",
   "metadata": {},
   "source": [
    "Alyssa P. Hacker doesn’t see **why `if` needs to be provided as a special form**. “Why **can’t I just define it as an ordinary procedure** in terms of cond?” she asks. Alyssa’s friend Eva Lu Ator claims this can indeed be done, and she defines a new version of `if`"
   ]
  },
  {
   "cell_type": "code",
   "execution_count": 15,
   "id": "8d06b6a3-fb9b-4d1e-b769-efa163c3b0cf",
   "metadata": {},
   "outputs": [
    {
     "name": "stdout",
     "output_type": "stream",
     "text": [
      "\n"
     ]
    }
   ],
   "source": [
    "(define (new-if predicate then-clause else-clause) ; this code define the procedure new-if and it tales three arguments. \n",
    "  (cond (predicate then-clause)                    ; this procedure evaluates predicate if it's true it returns the value of ´then-clause´\n",
    "        (else else-clause)))(newline)              ; if the predicate is not true it returns else-clause"
   ]
  },
  {
   "cell_type": "markdown",
   "id": "280556be-075d-4565-9bdb-6fa4fbe54a5b",
   "metadata": {},
   "source": [
    "Eva demonstrates the program for Alyssa "
   ]
  },
  {
   "cell_type": "code",
   "execution_count": 16,
   "id": "45492d08-aa9d-42cd-b202-57b7447a5c54",
   "metadata": {
    "editable": true,
    "slideshow": {
     "slide_type": ""
    },
    "tags": []
   },
   "outputs": [
    {
     "data": {
      "text/html": [
       "<code>5</code>"
      ],
      "text/plain": [
       "5"
      ]
     },
     "execution_count": 16,
     "metadata": {},
     "output_type": "execute_result"
    }
   ],
   "source": [
    "(new-if (= 2 3) 0 5); 1st demo"
   ]
  },
  {
   "cell_type": "code",
   "execution_count": 17,
   "id": "f86933d9-add0-40ef-9e67-ad7a0fd472b4",
   "metadata": {},
   "outputs": [
    {
     "data": {
      "text/html": [
       "<code>0</code>"
      ],
      "text/plain": [
       "0"
      ]
     },
     "execution_count": 17,
     "metadata": {},
     "output_type": "execute_result"
    }
   ],
   "source": [
    "(new-if (= 1 1) 0 5); 2nd demo"
   ]
  },
  {
   "cell_type": "markdown",
   "id": "8b33e842-c882-467a-afec-010bf6c2ea8d",
   "metadata": {},
   "source": [
    "Delighted, Alyssa uses new-if to rewrite the square-root program:"
   ]
  },
  {
   "cell_type": "code",
   "execution_count": 18,
   "id": "49e241d0-f425-4c7c-9a5d-ed0469cb2a6d",
   "metadata": {},
   "outputs": [],
   "source": [
    " (define (sqrt-iter guess x)\n",
    "  (new-if (good-enough? guess x)\n",
    "          guess\n",
    "          (sqrt-iter (improve guess x) x)))"
   ]
  },
  {
   "cell_type": "markdown",
   "id": "9bad8025-8385-4284-bebb-a138f84a3774",
   "metadata": {},
   "source": [
    "##### **What happens when Alyssa attempts to use this to compute square roots? Explain.**"
   ]
  },
  {
   "cell_type": "markdown",
   "id": "6d6d20e1-05e5-4f67-bb2f-6ef33d83e654",
   "metadata": {},
   "source": [
    "So in this exercise Alyssa redefines **`if`**, which **is a special form**.\n",
    "\n",
    "Considering that:\n",
    "1. A procedure on Scheme is a function that gets evaluated first. -> _NORMAL ORDER_.\n",
    "2. A special form is a first-class object that takes arguments first and then does a lazy evaluation -> _APPLICATIVE ORDER_.\n",
    "\n",
    "Since Alyssa is redefining `if` (NORMAL ORDER) as a procedure `new-if` (APPLICATIVE ORDER) it goes on loop infinitely IF `good-enough?` were defined.\n",
    "\n",
    "If `good-enough` procedure were defined; **then `new-if` would go infinitely recursively** since `new-if` is a procedure of eval first (APPLICATIVE ORDER) form unlike the special form `if` (NORMAL ORDER)."
   ]
  },
  {
   "cell_type": "markdown",
   "id": "2231e8d4-fbd7-4a22-bc13-fb8ea1731e52",
   "metadata": {},
   "source": [
    "### EXERCISE 1.7. "
   ]
  },
  {
   "cell_type": "markdown",
   "id": "595fb784-8065-46c6-97b2-11f3a2b403ea",
   "metadata": {
    "editable": true,
    "slideshow": {
     "slide_type": ""
    },
    "tags": []
   },
   "source": [
    "STATEMENTS:\n",
    "1. The **`good-enough?` test** used in computing square roots **will not be very effective** for finding the square roots **_(a) of very small numbers_**.\n",
    "2. Also, in real computers, arithmetic operations are almost always performed with limited precision. This makes our test inadequate **_(b) for very large numbers._** \n",
    "\n",
    "**++1 Explain these statements, with examples** _showing how the test fails (a) for small and (b) large numbers_. \n",
    "\n",
    "An alternative strategy for implementing `good-enough?` is to watch how guess changes from one iteration to the next and to stop whenthe change is a very small fraction of the guess. \n",
    "\n",
    "**++2 Design a square-root procedure that uses this kind of end test**. **++2.1. [answer-verbalize]** _Does this work better for small and large numbers?_"
   ]
  },
  {
   "cell_type": "markdown",
   "id": "fc4b2c98-17fa-4673-bf20-6b19a756889a",
   "metadata": {
    "editable": true,
    "slideshow": {
     "slide_type": ""
    },
    "tags": []
   },
   "source": [
    "##### First let's find the square roots of numbers, code imperatively the Newton method"
   ]
  },
  {
   "cell_type": "markdown",
   "id": "8c4a80ff-5e47-4625-ac92-d8564652d117",
   "metadata": {
    "editable": true,
    "slideshow": {
     "slide_type": ""
    },
    "tags": []
   },
   "source": [
    "I better understood the table on the page 57 (PDF page always) so let's do that\n",
    "\n",
    "Note: I got stuck on this one lol, so I had to look up for the solution, it was this one: https://mngu2382.github.io/sicp/chapter1/01-exercise01.html\n",
    "\n",
    "I put comments to assure I understood the solution"
   ]
  },
  {
   "cell_type": "code",
   "execution_count": 19,
   "id": "2d87b26f-042d-4279-a056-009310ab95fd",
   "metadata": {
    "editable": true,
    "slideshow": {
     "slide_type": ""
    },
    "tags": []
   },
   "outputs": [],
   "source": [
    "(define (average x y)\n",
    "  (/ (+ x y) 2))\n",
    "\n",
    "(define (improve guess x)\n",
    "  (average guess (/ x guess)))\n",
    "\n",
    "(define tol 0.00001) ; Define the tolerance value\n",
    "\n",
    "(define (good-enough? guess x)\n",
    "  (< (abs (- (square guess) x)) tol))\n",
    "\n",
    "(define (square x) (* x x))\n",
    "\n",
    "(define (sqrt-iter guess x)\n",
    "  (if (good-enough? guess x)\n",
    "      guess\n",
    "      (sqrt-iter (improve guess x) x)))\n",
    "\n",
    "(define (sqrt x)\n",
    "  (sqrt-iter 1.0 x))\n"
   ]
  },
  {
   "attachments": {
    "182c665b-469a-4843-9c82-9f588eac9e9d.png": {
     "image/png": "[encoded data removed]"
    }
   },
   "cell_type": "markdown",
   "id": "679ca650-4ae9-4e34-942f-d68b97551b9a",
   "metadata": {
    "editable": true,
    "slideshow": {
     "slide_type": ""
    },
    "tags": []
   },
   "source": [
    "This table: Newton's method of succesive approximations\n",
    "![image.png](attachment:182c665b-469a-4843-9c82-9f588eac9e9d.png)"
   ]
  },
  {
   "cell_type": "code",
   "execution_count": 20,
   "id": "ae2fac96-93ee-45fe-a6f6-e06b0238ba63",
   "metadata": {
    "editable": true,
    "slideshow": {
     "slide_type": ""
    },
    "tags": []
   },
   "outputs": [
    {
     "data": {
      "text/html": [
       "<code>31622.776601683792</code>"
      ],
      "text/plain": [
       "31622.776601683792"
      ]
     },
     "execution_count": 20,
     "metadata": {},
     "output_type": "execute_result"
    }
   ],
   "source": [
    "(sqrt 1000000000)"
   ]
  },
  {
   "cell_type": "code",
   "execution_count": 21,
   "id": "0e18e634-e852-4257-aa6f-620a09000158",
   "metadata": {
    "editable": true,
    "slideshow": {
     "slide_type": ""
    },
    "tags": []
   },
   "outputs": [
    {
     "data": {
      "text/html": [
       "<code>316.2277660203896</code>"
      ],
      "text/plain": [
       "316.2277660203896"
      ]
     },
     "execution_count": 21,
     "metadata": {},
     "output_type": "execute_result"
    }
   ],
   "source": [
    "(sqrt 100000)"
   ]
  },
  {
   "cell_type": "markdown",
   "id": "cfb599cf-c55a-4292-bde5-06a1788b40aa",
   "metadata": {},
   "source": [
    "**Observations**\n",
    "So when I define `tol`(tolerance value) as 0.00001 the following code cells:"
   ]
  },
  {
   "cell_type": "code",
   "execution_count": 22,
   "id": "cbd15747-3ba7-4046-a96c-1814cf9803e4",
   "metadata": {},
   "outputs": [],
   "source": [
    "; (sqrt 100000000000)"
   ]
  },
  {
   "cell_type": "code",
   "execution_count": 23,
   "id": "35780811-c61d-49dd-9949-1d9f45e3caac",
   "metadata": {},
   "outputs": [],
   "source": [
    "; (sqrt 10000000000000000)"
   ]
  },
  {
   "cell_type": "markdown",
   "id": "0e27087d-fcf9-4a67-9be8-7143688f86c9",
   "metadata": {},
   "source": [
    "they don't execute. This is due to `tol` being equal to 0.00001 a numbers that declares the Newton algorithm to be of high accuracy which leads to iterating forever ~~(at least minutes have passed with * on Jupyter Lab*)~~ on these very large numbers. the code cells above _[20]_ and _[21]_ are accurate results despite being large numbers due to the high sensitivity of `tol`.\n",
    "\n",
    "So what happens if we equal `tol` to a number of low accuracy?\n",
    "\n",
    "~~*: At this point my CPU is being with 100% of Utilization even though is just two browsers, it works better than yesterday since I asked the fixer to put it cooling thermal pads, so maybe it's not the code but just my computer dying on me lmaooo~~"
   ]
  },
  {
   "cell_type": "code",
   "execution_count": 24,
   "id": "82b850c2-76ea-4d2a-87a2-ecaf26f1a1aa",
   "metadata": {},
   "outputs": [],
   "source": [
    "(define tol 0.1)"
   ]
  },
  {
   "cell_type": "code",
   "execution_count": 25,
   "id": "f2d25ffe-0a39-451f-81dc-bf4a6671fc5d",
   "metadata": {},
   "outputs": [
    {
     "data": {
      "text/html": [
       "<code>10000000.0</code>"
      ],
      "text/plain": [
       "10000000.0"
      ]
     },
     "execution_count": 25,
     "metadata": {},
     "output_type": "execute_result"
    }
   ],
   "source": [
    "(sqrt 100000000000000)"
   ]
  },
  {
   "cell_type": "markdown",
   "id": "a3308736-ab7a-497c-8659-91312da3bceb",
   "metadata": {},
   "source": [
    "It works!"
   ]
  },
  {
   "cell_type": "markdown",
   "id": "de8a3f61-e6ff-4b0c-88e1-ea74698a1861",
   "metadata": {
    "editable": true,
    "slideshow": {
     "slide_type": ""
    },
    "tags": []
   },
   "source": [
    "#### SOL 1.7.1 \n",
    "statement 1: good-enough? fails for **very small numbers** _(a) with examples and (b) its verbalization_"
   ]
  },
  {
   "cell_type": "markdown",
   "id": "981a46de-7f29-4ab4-b0ce-e9a2b42b0c39",
   "metadata": {},
   "source": [
    "Examples:"
   ]
  },
  {
   "cell_type": "code",
   "execution_count": null,
   "id": "bd0278ac-95ab-419b-81f6-9d8827570ed7",
   "metadata": {},
   "outputs": [],
   "source": []
  },
  {
   "cell_type": "markdown",
   "id": "dfce61af-107e-43d9-a8e9-700a8dd1e5ab",
   "metadata": {},
   "source": [
    "Answer-verbalization:"
   ]
  },
  {
   "cell_type": "markdown",
   "id": "3f5d2bc8-5126-42f9-b024-d38a94089c2f",
   "metadata": {},
   "source": [
    "#### SOL 1.2 \n",
    "statement 2: good-enough? fails for very large numbers _(a) with examples and (b) its verbalization_"
   ]
  },
  {
   "cell_type": "markdown",
   "id": "396bc004-1890-47b5-a75c-0061ac78a58a",
   "metadata": {},
   "source": [
    "Examples:"
   ]
  },
  {
   "cell_type": "code",
   "execution_count": null,
   "id": "2f374bf3-fe74-4d7c-b19f-cb882fc64ea3",
   "metadata": {},
   "outputs": [],
   "source": []
  },
  {
   "cell_type": "markdown",
   "id": "b6563068-8e8f-48b1-9be2-8a7eba4fcaeb",
   "metadata": {},
   "source": [
    "Answer-verbalization:"
   ]
  },
  {
   "cell_type": "code",
   "execution_count": null,
   "id": "90af5708-e78d-464c-b3c0-c4a84542830c",
   "metadata": {},
   "outputs": [],
   "source": []
  },
  {
   "cell_type": "markdown",
   "id": "b2688e7c-c050-4d67-ab95-b90087f5facc",
   "metadata": {},
   "source": [
    "### EXERCISE 1.8. "
   ]
  },
  {
   "cell_type": "markdown",
   "id": "f0eec444-568a-4645-b7d6-d10c92127fba",
   "metadata": {},
   "source": [
    "Newton’s method for cube roots is based on the fact that if $y$ is an approximation to the cube root of $x$ , then a better approximation is given by the value:\n",
    "\n",
    "$$\\frac{x/y^2 + 2y}{3}$$"
   ]
  },
  {
   "cell_type": "markdown",
   "id": "6e360b7f-c1b7-4cb8-af9a-5c4207cb1e04",
   "metadata": {},
   "source": [
    "**++1 Use this formula to implement a cube-root procedure** _analogous to the square-root procedure_.\n",
    "\n",
    "(In Section 1.3.4 we will see how to implement Newton’s method in general as an abstraction of these square-root and cube-root procedures.)"
   ]
  },
  {
   "cell_type": "markdown",
   "id": "61575e2c-529f-4c91-bcb6-079074cabb23",
   "metadata": {},
   "source": [
    "$$\\frac{x/y^2 + 2y}{3}$$"
   ]
  },
  {
   "cell_type": "markdown",
   "id": "85332859-b3ca-42b5-8261-26ddb7a49db9",
   "metadata": {},
   "source": [
    "##### CODE (Imperative implementation of Newton method for cube roots)"
   ]
  },
  {
   "cell_type": "code",
   "execution_count": 26,
   "id": "69bc49ec-7d33-4f41-8bc3-080497d6adf9",
   "metadata": {},
   "outputs": [],
   "source": [
    "; FIRST PART\n",
    "  (define (cube x) (* x x x))\n",
    "\n",
    "  \n",
    "; SECOND PART\n",
    "(define (cube-root x)\n",
    "  (define (good-enough? guess x)\n",
    "    (< (abs (- (cube guess) x)) 0.00001))           \n",
    "\n",
    "; THIRD PART  \n",
    "  (define (improve guess x)\n",
    "    (/ (+ (/ x (* guess guess)) (* 2 guess)) 3))\n",
    "\n",
    "; FOURTH PART\n",
    "  (define (cube_root guess x)\n",
    "    (if (good-enough? guess x)\n",
    "        guess\n",
    "        (cube_root (improve guess x) x)))\n",
    "\n",
    "; FIFTH PART\n",
    "  (cube_root 1.0 x))"
   ]
  },
  {
   "cell_type": "markdown",
   "id": "a64d300c-1eab-4c5e-a5ab-77b768a78ac2",
   "metadata": {},
   "source": [
    "##### CODE EXPLANATION"
   ]
  },
  {
   "cell_type": "markdown",
   "id": "4b99cd70-00db-4489-bbf1-40102b27ee7b",
   "metadata": {
    "editable": true,
    "slideshow": {
     "slide_type": ""
    },
    "tags": []
   },
   "source": [
    "FIRST PART:\n",
    "- Defines the cube of a number.\n",
    "\n",
    "SECOND PART:\n",
    "- Decides if the approximation is good enough, meaning that this function stops the iteration of the cube-rooting so it doesn't go on an infinite recursion, defined by a difference of less than 0.00001 on this case. It uses `abs` handily for absolute value.\n",
    "\n",
    "THIRD PART:\n",
    "- It writes the formula of Newton imperatively ~~(a how-to so a computer understands, instead of declarative like the LaTeX above)~~ to find the cube root of a number, it's defined as `improve` since this process will be iterative until good-enough? decides to stop this process.\n",
    "\n",
    "FOURTH PART:\n",
    "Defines cube_root so we can call it later, it defines it and unifies all the functions of later. It mainly consists of two things:\n",
    "1. putting a the conditional `if` to decide when to stop by using the function `good-enough?`, verifying and capping the value when it's reached:\n",
    "\n",
    "    ```\n",
    "    (if (good-enough? guess x)\n",
    "       guess\n",
    "    ```\n",
    "3. the rest of the define function just calls the cube-root Newton formula.\n",
    "\n",
    "FIFTH PART:\n",
    "It just calls the function, it puts two parameters:\n",
    "- `1.0` which is the initial `guess`. And\n",
    "- `x` which is `improve`ing until is capped."
   ]
  },
  {
   "cell_type": "markdown",
   "id": "08b76da7-6bcc-4a57-8942-7fc63ba9e47d",
   "metadata": {
    "editable": true,
    "slideshow": {
     "slide_type": ""
    },
    "tags": []
   },
   "source": [
    "##### TEST USAGE:"
   ]
  },
  {
   "cell_type": "code",
   "execution_count": 27,
   "id": "3ec81ab0-6bd3-4d79-a1e1-8c6aca5cf262",
   "metadata": {
    "editable": true,
    "slideshow": {
     "slide_type": ""
    },
    "tags": []
   },
   "outputs": [
    {
     "name": "stdout",
     "output_type": "stream",
     "text": [
      "3.0000000000000977"
     ]
    }
   ],
   "source": [
    "(display (cube-root 27))"
   ]
  }
 ],
 "metadata": {
  "kernelspec": {
   "display_name": "Racket",
   "language": "racket",
   "name": "racket"
  },
  "language_info": {
   "codemirror_mode": "scheme",
   "file_extension": ".rkt",
   "mimetype": "text/x-racket",
   "name": "Racket",
   "pygments_lexer": "racket",
   "version": "8.9"
  }
 },
 "nbformat": 4,
 "nbformat_minor": 5
}

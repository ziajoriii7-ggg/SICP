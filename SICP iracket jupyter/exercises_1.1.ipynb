{
 "cells": [
  {
   "cell_type": "markdown",
   "id": "15351798-f8e6-4920-9aa3-fceea29e2a4c",
   "metadata": {},
   "source": [
    "## EXERCISES - CHAPTER 1"
   ]
  },
  {
   "cell_type": "markdown",
   "id": "2ce867f7-4541-430d-9fbd-601d5ba93b0d",
   "metadata": {},
   "source": [
    "### 1.1. exercise: \n",
    "\n",
    "Below is a sequence of expressions. What is the result printed by the interpreter in response to each expression?"
   ]
  },
  {
   "cell_type": "code",
   "execution_count": 1,
   "id": "d0fc99db-1870-4761-a8b2-95de985a6d4c",
   "metadata": {},
   "outputs": [
    {
     "data": {
      "text/html": [
       "<code>10</code>"
      ],
      "text/plain": [
       "10"
      ]
     },
     "execution_count": 1,
     "metadata": {},
     "output_type": "execute_result"
    }
   ],
   "source": [
    "10"
   ]
  },
  {
   "cell_type": "code",
   "execution_count": 2,
   "id": "faa7cdb3-0f6f-4ef1-a4a6-d1a5536eb4ad",
   "metadata": {},
   "outputs": [
    {
     "data": {
      "text/html": [
       "<code>12</code>"
      ],
      "text/plain": [
       "12"
      ]
     },
     "execution_count": 2,
     "metadata": {},
     "output_type": "execute_result"
    }
   ],
   "source": [
    "(+ 5 3 4)"
   ]
  },
  {
   "cell_type": "code",
   "execution_count": 3,
   "id": "3047a829-f282-4eb0-8da2-2b73d34f8798",
   "metadata": {},
   "outputs": [
    {
     "data": {
      "text/html": [
       "<code>8</code>"
      ],
      "text/plain": [
       "8"
      ]
     },
     "execution_count": 3,
     "metadata": {},
     "output_type": "execute_result"
    }
   ],
   "source": [
    "(- 9 1)"
   ]
  },
  {
   "cell_type": "code",
   "execution_count": 4,
   "id": "77bd8189-d6f5-42b5-829b-332c7d122abd",
   "metadata": {},
   "outputs": [
    {
     "data": {
      "text/html": [
       "<code>3</code>"
      ],
      "text/plain": [
       "3"
      ]
     },
     "execution_count": 4,
     "metadata": {},
     "output_type": "execute_result"
    }
   ],
   "source": [
    "(/ 6 2)"
   ]
  },
  {
   "cell_type": "code",
   "execution_count": 5,
   "id": "8f3fb52d-8c5d-4539-841c-f904c816a0ee",
   "metadata": {},
   "outputs": [
    {
     "data": {
      "text/html": [
       "<code>6</code>"
      ],
      "text/plain": [
       "6"
      ]
     },
     "execution_count": 5,
     "metadata": {},
     "output_type": "execute_result"
    }
   ],
   "source": [
    "(+ (* 2 4) (- 4 6))"
   ]
  },
  {
   "cell_type": "code",
   "execution_count": 6,
   "id": "3a0c71f0-65a8-402b-a537-308f289b5f15",
   "metadata": {},
   "outputs": [
    {
     "data": {
      "text/html": [
       "<code>19</code>"
      ],
      "text/plain": [
       "19"
      ]
     },
     "execution_count": 6,
     "metadata": {},
     "output_type": "execute_result"
    }
   ],
   "source": [
    "(define a 3)\n",
    "(define b (+ a 1))\n",
    "(+ a b (* a b))"
   ]
  },
  {
   "cell_type": "code",
   "execution_count": 7,
   "id": "c05ae08a-7568-4fa3-8216-3dde170e0d17",
   "metadata": {},
   "outputs": [
    {
     "data": {
      "text/html": [
       "<code>#f</code>"
      ],
      "text/plain": [
       "#f"
      ]
     },
     "execution_count": 7,
     "metadata": {},
     "output_type": "execute_result"
    }
   ],
   "source": [
    "(= a b)"
   ]
  },
  {
   "cell_type": "code",
   "execution_count": 11,
   "id": "0922672f-9ccb-42d9-a594-3d5dfc039db8",
   "metadata": {},
   "outputs": [
    {
     "data": {
      "text/html": [
       "<code>4</code>"
      ],
      "text/plain": [
       "4"
      ]
     },
     "execution_count": 11,
     "metadata": {},
     "output_type": "execute_result"
    }
   ],
   "source": [
    "(if (and (> b a) (< b (* a b)))\n",
    "    b\n",
    "    a)"
   ]
  },
  {
   "cell_type": "code",
   "execution_count": null,
   "id": "07133153-f2a0-4689-b949-b41fd65c49fc",
   "metadata": {},
   "outputs": [],
   "source": [
    "(* (cond ((> b a) a)\n",
    "         ((< a b) b)\n",
    "         (else -1))\n",
    "   (+ a 1))"
   ]
  },
  {
   "cell_type": "markdown",
   "id": "b675d7fd-e311-44ee-969e-242becf904ee",
   "metadata": {
    "jp-MarkdownHeadingCollapsed": true
   },
   "source": [
    "### 1.2 EXERCISE: \n",
    "Translate a expression [given in the book] into prefix form"
   ]
  },
  {
   "cell_type": "code",
   "execution_count": 13,
   "id": "63b744d3-a30e-4a65-8551-473046dd736f",
   "metadata": {},
   "outputs": [
    {
     "data": {
      "text/html": [
       "<code>-37/150</code>"
      ],
      "text/plain": [
       "-37/150"
      ]
     },
     "execution_count": 13,
     "metadata": {},
     "output_type": "execute_result"
    }
   ],
   "source": [
    "(/ (+ 5 4 (- 2 (- 3 (+ 6 (/ 4 5)))))\n",
    "   (* 3 (- 6 2) (- 2 7)))"
   ]
  },
  {
   "cell_type": "markdown",
   "id": "3b352f0c-1d22-4977-b975-fb1a48d41f6e",
   "metadata": {},
   "source": [
    "### **1.3.** EXERCISE: \n",
    "Define a procedure that takes three numbers  as arguments and return the sum of the squares of the tw ; larger numberers."
   ]
  },
  {
   "cell_type": "code",
   "execution_count": 14,
   "id": "c7057a53-28eb-4517-bf26-8742195ece1e",
   "metadata": {},
   "outputs": [],
   "source": [
    "(define (square x)\n",
    "  (* x x))\n",
    "\n",
    "(define (sum_of_square_of_two_largest_numbers a b c)\n",
    "  (cond ((and (<= a b) (<= a c))\n",
    "         (+ (square b) (square c))) ; a is excluded ->  sum of squares of b and c \n",
    "        \n",
    "        ((and (<= b a) (<= b c))\n",
    "         (+ (square a) (square c))) ; b is excluded ->  sum of squares of a and c  \n",
    "  \n",
    "        ((and (<= c a) (<= c b))\n",
    "         (+ (square a) (square b))) ; c is excluded ->  sum of squares of a and b \n",
    "  ))"
   ]
  },
  {
   "cell_type": "markdown",
   "id": "dd787870-275b-41eb-8ab8-fcbfe3aac544",
   "metadata": {},
   "source": [
    "Testing out the procedure above"
   ]
  },
  {
   "cell_type": "code",
   "execution_count": 16,
   "id": "aaad5551-32db-4f89-a007-71f342d74c28",
   "metadata": {},
   "outputs": [
    {
     "name": "stdout",
     "output_type": "stream",
     "text": [
      "13"
     ]
    }
   ],
   "source": [
    "(display (sum_of_square_of_two_largest_numbers 1 2 3)); 2^2 + 3^2"
   ]
  },
  {
   "cell_type": "markdown",
   "id": "7ca6d8f1-d422-4d4d-b110-91ccbf503b09",
   "metadata": {},
   "source": [
    "### **1.4.**: EXERCISE: \n",
    "Observe that our model of evaluation allows for  combinations whose operators are compound expressions. se this ; observation t**o descri**be the behavior of the following procedure"
   ]
  },
  {
   "cell_type": "code",
   "execution_count": 17,
   "id": "36046d7b-0a0f-4969-bb4d-e352b4393dac",
   "metadata": {},
   "outputs": [],
   "source": [
    "(define (a-plus-abs-b a b)\n",
    "  (if (> b 0) + -) a b)"
   ]
  },
  {
   "cell_type": "markdown",
   "id": "6676699a-fa4f-481b-ac00-6aac92ac3ef1",
   "metadata": {},
   "source": [
    "DESCRIPTION of above procedure:\n",
    "- This procedure is defined by two paremeters a and b.\n",
    "- if b is greater than 0 then its value remains positive if b is less than 0 then its value it adds it a  since the input value was already a negative two minuses converts b into a positive.\n",
    "-  --This means that this procedure sums a and the absolute value of b.--"
   ]
  },
  {
   "cell_type": "markdown",
   "id": "fcfd8dda-d990-4529-8987-da2554411e9b",
   "metadata": {},
   "source": [
    "### **1.5.** EXERCISE:\n",
    "Ben Bitdiddle has invented a test to determine whether the interpreter he is faced with is using applicative-order evaluation or normal-order evaluation. He defines the following two procedures\r\n"
   ]
  },
  {
   "cell_type": "markdown",
   "id": "26ab9ecf-3139-4ff3-9202-4ce6e3f0ccff",
   "metadata": {},
   "source": [
    "(define (p) (p))\n",
    "(define (test x y)\n",
    "  (if (= x 0) 0 y))  (test 0 (p))"
   ]
  },
  {
   "cell_type": "markdown",
   "id": "99a9c20b-6719-4eba-9331-32b5389c1ebb",
   "metadata": {},
   "source": [
    "What behavior will Ben [1] observe with an interpreter that uses applicative-order \n",
    "evaluation? What behavior will he [2] observe with an interpreter that use \r\n",
    "normal-order evaluation? Explain your answ.tion."
   ]
  },
  {
   "cell_type": "markdown",
   "id": "ed780cb1-8a59-4d76-8022-4fc1dd87614f",
   "metadata": {},
   "source": [
    "#### APPLICATIVE ORDER:\r\n",
    "The loop gets run as an infinite loop recursively(*1), it doesn't get a\r\n",
    "numerical value at the end since it evaluates itself as ´p´, without\r\n",
    "any exit conditi\n",
    "on.\r\n",
    "Since it first calls the arguments aka: call-by-value / llamada por valor.\r\n",
    "it's using an applicative order [evaluation]:\r\n",
    "1. It evaluates0 on ´test´, it's a simple eval so it doesn't go further.\r\n",
    "2. It calls the va`ue `f ´(p)´ p calls itself on define, it goes on an infinit\n",
    "\n",
    "e loop*1.Additional_ es (// _th- ry):\r\n",
    "+ (*1): When the program will not terminate (this case because there's n ,\r\n",
    "      p on itself), the program will encounter a runtime error. This is ** a\r\n",
    "      \"Stack Overflow / Desbordamient**o de pila\" porque supera su tamañ ado\r\n",
    "      debido a las llamada e cesivas de (a) funciones (b) sus variable\n",
    "les.\r\n",
    "      \"SO\" usualmente ocu:\r\n",
    "          1. hay una recursión infinita, de.if \r\n",
    "          2. o cuando hay llamadas con funciones sin condiciones de escape / terminación\n",
    "\n",
    "#### adecuadas.[2] NORMAL ORDER:\r\n",
    "An interpreter with Normal Order behavior would not call the evalu tion until the\r\n",
    "the values are needed(*2). S` whe` _line 5_ ´test´ is called it will check if x is 0\r\n",
    "so it will just give\n",
    "\n",
    " 0 as in _line 3_CODE GIVEN (// for reading accesibility p\n",
    "```urposes only XD):\r\n",
    "1 |  (define (p) (p))\r\n",
    "2 |  (define (test x y)\r\n",
    "3 |    (if (= x 0) 0 y))\r\n",
    "4 |\r\n",
    "5 |  (te\n",
    "```\n",
    "s##### t 0 (p)) (test 0 _(\r\n",
    "Addit_ional Notes (// theory):\r\n",
    "+ (*2): This behavior is known as \"Lazy Evaluation\"."
   ]
  },
  {
   "cell_type": "markdown",
   "id": "82c24ac8-131f-4438-9b9b-7c3d6cba38a9",
   "metadata": {},
   "source": [
    "## 1.6"
   ]
  },
  {
   "cell_type": "markdown",
   "id": "1b15f06c-e168-45aa-a84e-3bee320bb420",
   "metadata": {},
   "source": [
    "EXERCISE: Alyssa P. Hacker doesn’t see why if needs to be provided as a special form. “Why can’t I just define it as an ordinary procedure in terms of cond?” she asks. Alyssa’s friend Eva Lu Ator claims this can indeed be done, and she defines a new version of if\n"
   ]
  },
  {
   "cell_type": "code",
   "execution_count": null,
   "id": "45492d08-aa9d-42cd-b202-57b7447a5c54",
   "metadata": {
    "editable": true,
    "slideshow": {
     "slide_type": ""
    },
    "tags": []
   },
   "outputs": [],
   "source": []
  }
 ],
 "metadata": {
  "kernelspec": {
   "display_name": "Racket",
   "language": "racket",
   "name": "racket"
  },
  "language_info": {
   "codemirror_mode": "scheme",
   "file_extension": ".rkt",
   "mimetype": "text/x-racket",
   "name": "Racket",
   "pygments_lexer": "racket",
   "version": "8.9"
  }
 },
 "nbformat": 4,
 "nbformat_minor": 5
}
